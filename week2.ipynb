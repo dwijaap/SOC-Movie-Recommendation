{
 "cells": [
  {
   "cell_type": "code",
   "execution_count": 1,
   "id": "afc0f2a5",
   "metadata": {},
   "outputs": [
    {
     "name": "stdout",
     "output_type": "stream",
     "text": [
      "Index(['adult', 'belongs_to_collection', 'budget', 'genres', 'homepage', 'id',\n",
      "       'imdb_id', 'original_language', 'original_title', 'overview',\n",
      "       'popularity', 'poster_path', 'production_companies',\n",
      "       'production_countries', 'release_date', 'revenue', 'runtime',\n",
      "       'spoken_languages', 'status', 'tagline', 'title', 'video',\n",
      "       'vote_average', 'vote_count', 'cast', 'crew', 'keywords'],\n",
      "      dtype='object')\n",
      "(46629, 27)\n"
     ]
    }
   ],
   "source": [
    "import pandas as pd\n",
    "\n",
    "metadata = pd.read_csv(\"movies_metadata.csv\", dtype={\"id\": int}, low_memory=False)\n",
    "credits = pd.read_csv(\"credits.csv\", dtype={\"id\": int})\n",
    "keywords = pd.read_csv(\"keywords.csv\", dtype={\"id\": int})\n",
    "\n",
    "merged = metadata.merge(credits, on=\"id\", how=\"outer\")\n",
    "final_merged = merged.merge(keywords, on=\"id\", how=\"outer\")\n",
    "\n",
    "# print(final_merged.shape)\n",
    "\n",
    "links = pd.read_csv('links.csv')\n",
    "links = links[links['tmdbId'].notnull()]['tmdbId'].astype('int')\n",
    "final_merged = final_merged[final_merged['id'].isin(links)]\n",
    "print(final_merged.columns)\n",
    "print(final_merged.shape)"
   ]
  }
 ],
 "metadata": {
  "kernelspec": {
   "display_name": "Python 3",
   "language": "python",
   "name": "python3"
  },
  "language_info": {
   "codemirror_mode": {
    "name": "ipython",
    "version": 3
   },
   "file_extension": ".py",
   "mimetype": "text/x-python",
   "name": "python",
   "nbconvert_exporter": "python",
   "pygments_lexer": "ipython3",
   "version": "3.11.9"
  }
 },
 "nbformat": 4,
 "nbformat_minor": 5
}
