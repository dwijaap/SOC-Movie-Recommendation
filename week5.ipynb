{
 "cells": [
  {
   "cell_type": "code",
   "execution_count": 1,
   "id": "7cbc7427",
   "metadata": {},
   "outputs": [],
   "source": [
    "import pandas as pd\n",
    "import numpy as np\n",
    "from ast import literal_eval\n",
    "from sklearn.metrics.pairwise import cosine_similarity\n",
    "from sklearn.feature_extraction.text import CountVectorizer"
   ]
  },
  {
   "cell_type": "code",
   "execution_count": null,
   "id": "1093573c",
   "metadata": {},
   "outputs": [
    {
     "name": "stdout",
     "output_type": "stream",
     "text": [
      "                                         title  main_director release_date  \\\n",
      "0                                       Aliens  James Cameron   1986-07-18   \n",
      "1                                    True Lies  James Cameron   1994-07-14   \n",
      "2                                      Titanic  James Cameron   1997-11-18   \n",
      "3                               The Terminator  James Cameron   1984-10-26   \n",
      "4                   Terminator 2: Judgment Day  James Cameron   1991-07-01   \n",
      "5                      Star Trek Into Darkness    J.J. Abrams   2013-05-05   \n",
      "6                                        Alien   Ridley Scott   1979-05-25   \n",
      "7  Valerian and the City of a Thousand Planets     Luc Besson   2017-07-20   \n",
      "\n",
      "   similarity_score  \n",
      "0             0.548  \n",
      "1             0.446  \n",
      "2             0.427  \n",
      "3             0.397  \n",
      "4             0.390  \n",
      "5             0.183  \n",
      "6             0.120  \n",
      "7             0.120  \n"
     ]
    }
   ],
   "source": [
    "master_dataset_final = pd.read_csv('master_dataset_final.csv')\n",
    "\n",
    "freq_vect = CountVectorizer(analyzer='word', ngram_range=(1,2),max_features=6892)\n",
    "count_matrix = freq_vect.fit_transform(master_dataset_final.soup)\n",
    "# df = pd.DataFrame(data=count_array, columns = count_vect.get_feature_names_out())\n",
    "# print(count_matrix)\n",
    "\n",
    "\n",
    "cosine_sim = cosine_similarity(count_matrix)\n",
    "cosine_df = pd.DataFrame(cosine_sim, index=master_dataset_final['title'], columns=master_dataset_final['title'])\n",
    "cosine_df.to_csv(\"cosine_similarity_matrix.csv\")\n",
    "\n",
    "# Step 5: Define Recommendation Function\n",
    "def recommend_movies(movie_name, top_n=5):\n",
    "    if movie_name not in cosine_df.index:\n",
    "        return f\"'{movie_name}' not found in movie list.\"\n",
    "\n",
    "    movie_idx = cosine_df.index.get_loc(movie_name)\n",
    "    sim_scores = list(enumerate(cosine_sim[movie_idx]))\n",
    "    sim_scores = sorted(sim_scores, key=lambda x: x[1], reverse=True)[1:top_n+1]\n",
    "\n",
    "    recommendations = []\n",
    "    for idx, score in sim_scores:\n",
    "        recommendations.append({\n",
    "            'title': master_dataset_final.iloc[idx]['title'],\n",
    "            'main_director': master_dataset_final.iloc[idx]['main_director'],\n",
    "            'release_date': master_dataset_final.iloc[idx]['release_date'],\n",
    "            'similarity_score': round(score, 3)\n",
    "        })\n",
    "\n",
    "    return pd.DataFrame(recommendations)\n",
    "\n",
    "# Example Usage\n",
    "recommendations = recommend_movies(\"Avatar\", top_n=8)\n",
    "print(recommendations)"
   ]
  },
  {
   "cell_type": "code",
   "execution_count": null,
   "id": "56a44f9a",
   "metadata": {},
   "outputs": [],
   "source": []
  }
 ],
 "metadata": {
  "kernelspec": {
   "display_name": "Python 3",
   "language": "python",
   "name": "python3"
  },
  "language_info": {
   "codemirror_mode": {
    "name": "ipython",
    "version": 3
   },
   "file_extension": ".py",
   "mimetype": "text/x-python",
   "name": "python",
   "nbconvert_exporter": "python",
   "pygments_lexer": "ipython3",
   "version": "3.13.0"
  }
 },
 "nbformat": 4,
 "nbformat_minor": 5
}
